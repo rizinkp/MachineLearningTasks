{
 "cells": [
  {
   "cell_type": "markdown",
   "id": "180ca0ce-cb66-40d1-a48c-19211c41d72e",
   "metadata": {},
   "source": [
    "### a) Mean and Standard Deviation"
   ]
  },
  {
   "cell_type": "markdown",
   "id": "30cc5a0c-207e-4937-8129-94653d96a10a",
   "metadata": {},
   "source": [
    "##### Outlier Detection:"
   ]
  },
  {
   "cell_type": "code",
   "execution_count": 6,
   "id": "9c76619a-4f7f-4b05-813d-8d38ae310f78",
   "metadata": {},
   "outputs": [],
   "source": [
    "import pandas as pd\n",
    "import numpy as np\n",
    "import matplotlib.pyplot as plt\n",
    "import seaborn as sns"
   ]
  },
  {
   "cell_type": "code",
   "execution_count": 19,
   "id": "057aefd1-ea45-4425-8b9a-3a98bfe4f722",
   "metadata": {},
   "outputs": [
    {
     "name": "stdout",
     "output_type": "stream",
     "text": [
      "             location       size  total_sqft  bath  price  bhk  price_per_sqft\n",
      "345             other  3 Bedroom        11.0   3.0   74.0    3          672727\n",
      "1106            other  5 Bedroom        24.0   2.0  150.0    5          625000\n",
      "4044   Sarjapur  Road  4 Bedroom         1.0   4.0  120.0    4        12000000\n",
      "4924            other      7 BHK         5.0   7.0  115.0    7         2300000\n",
      "11447      Whitefield  4 Bedroom        60.0   4.0  218.0    4          363333\n"
     ]
    },
    {
     "data": {
      "text/html": [
       "<div>\n",
       "<style scoped>\n",
       "    .dataframe tbody tr th:only-of-type {\n",
       "        vertical-align: middle;\n",
       "    }\n",
       "\n",
       "    .dataframe tbody tr th {\n",
       "        vertical-align: top;\n",
       "    }\n",
       "\n",
       "    .dataframe thead th {\n",
       "        text-align: right;\n",
       "    }\n",
       "</style>\n",
       "<table border=\"1\" class=\"dataframe\">\n",
       "  <thead>\n",
       "    <tr style=\"text-align: right;\">\n",
       "      <th></th>\n",
       "      <th>location</th>\n",
       "      <th>size</th>\n",
       "      <th>total_sqft</th>\n",
       "      <th>bath</th>\n",
       "      <th>price</th>\n",
       "      <th>bhk</th>\n",
       "      <th>price_per_sqft</th>\n",
       "    </tr>\n",
       "  </thead>\n",
       "  <tbody>\n",
       "    <tr>\n",
       "      <th>0</th>\n",
       "      <td>Electronic City Phase II</td>\n",
       "      <td>2 BHK</td>\n",
       "      <td>1056.0</td>\n",
       "      <td>2.0</td>\n",
       "      <td>39.07</td>\n",
       "      <td>2</td>\n",
       "      <td>3699</td>\n",
       "    </tr>\n",
       "    <tr>\n",
       "      <th>1</th>\n",
       "      <td>Chikka Tirupathi</td>\n",
       "      <td>4 Bedroom</td>\n",
       "      <td>2600.0</td>\n",
       "      <td>5.0</td>\n",
       "      <td>120.00</td>\n",
       "      <td>4</td>\n",
       "      <td>4615</td>\n",
       "    </tr>\n",
       "    <tr>\n",
       "      <th>2</th>\n",
       "      <td>Uttarahalli</td>\n",
       "      <td>3 BHK</td>\n",
       "      <td>1440.0</td>\n",
       "      <td>2.0</td>\n",
       "      <td>62.00</td>\n",
       "      <td>3</td>\n",
       "      <td>4305</td>\n",
       "    </tr>\n",
       "    <tr>\n",
       "      <th>3</th>\n",
       "      <td>Lingadheeranahalli</td>\n",
       "      <td>3 BHK</td>\n",
       "      <td>1521.0</td>\n",
       "      <td>3.0</td>\n",
       "      <td>95.00</td>\n",
       "      <td>3</td>\n",
       "      <td>6245</td>\n",
       "    </tr>\n",
       "    <tr>\n",
       "      <th>4</th>\n",
       "      <td>Kothanur</td>\n",
       "      <td>2 BHK</td>\n",
       "      <td>1200.0</td>\n",
       "      <td>2.0</td>\n",
       "      <td>51.00</td>\n",
       "      <td>2</td>\n",
       "      <td>4250</td>\n",
       "    </tr>\n",
       "    <tr>\n",
       "      <th>...</th>\n",
       "      <td>...</td>\n",
       "      <td>...</td>\n",
       "      <td>...</td>\n",
       "      <td>...</td>\n",
       "      <td>...</td>\n",
       "      <td>...</td>\n",
       "      <td>...</td>\n",
       "    </tr>\n",
       "    <tr>\n",
       "      <th>13195</th>\n",
       "      <td>Whitefield</td>\n",
       "      <td>5 Bedroom</td>\n",
       "      <td>3453.0</td>\n",
       "      <td>4.0</td>\n",
       "      <td>231.00</td>\n",
       "      <td>5</td>\n",
       "      <td>6689</td>\n",
       "    </tr>\n",
       "    <tr>\n",
       "      <th>13196</th>\n",
       "      <td>other</td>\n",
       "      <td>4 BHK</td>\n",
       "      <td>3600.0</td>\n",
       "      <td>5.0</td>\n",
       "      <td>400.00</td>\n",
       "      <td>4</td>\n",
       "      <td>11111</td>\n",
       "    </tr>\n",
       "    <tr>\n",
       "      <th>13197</th>\n",
       "      <td>Raja Rajeshwari Nagar</td>\n",
       "      <td>2 BHK</td>\n",
       "      <td>1141.0</td>\n",
       "      <td>2.0</td>\n",
       "      <td>60.00</td>\n",
       "      <td>2</td>\n",
       "      <td>5258</td>\n",
       "    </tr>\n",
       "    <tr>\n",
       "      <th>13198</th>\n",
       "      <td>Padmanabhanagar</td>\n",
       "      <td>4 BHK</td>\n",
       "      <td>4689.0</td>\n",
       "      <td>4.0</td>\n",
       "      <td>488.00</td>\n",
       "      <td>4</td>\n",
       "      <td>10407</td>\n",
       "    </tr>\n",
       "    <tr>\n",
       "      <th>13199</th>\n",
       "      <td>Doddathoguru</td>\n",
       "      <td>1 BHK</td>\n",
       "      <td>550.0</td>\n",
       "      <td>1.0</td>\n",
       "      <td>17.00</td>\n",
       "      <td>1</td>\n",
       "      <td>3090</td>\n",
       "    </tr>\n",
       "  </tbody>\n",
       "</table>\n",
       "<p>13200 rows × 7 columns</p>\n",
       "</div>"
      ],
      "text/plain": [
       "                       location       size  total_sqft  bath   price  bhk  \\\n",
       "0      Electronic City Phase II      2 BHK      1056.0   2.0   39.07    2   \n",
       "1              Chikka Tirupathi  4 Bedroom      2600.0   5.0  120.00    4   \n",
       "2                   Uttarahalli      3 BHK      1440.0   2.0   62.00    3   \n",
       "3            Lingadheeranahalli      3 BHK      1521.0   3.0   95.00    3   \n",
       "4                      Kothanur      2 BHK      1200.0   2.0   51.00    2   \n",
       "...                         ...        ...         ...   ...     ...  ...   \n",
       "13195                Whitefield  5 Bedroom      3453.0   4.0  231.00    5   \n",
       "13196                     other      4 BHK      3600.0   5.0  400.00    4   \n",
       "13197     Raja Rajeshwari Nagar      2 BHK      1141.0   2.0   60.00    2   \n",
       "13198           Padmanabhanagar      4 BHK      4689.0   4.0  488.00    4   \n",
       "13199              Doddathoguru      1 BHK       550.0   1.0   17.00    1   \n",
       "\n",
       "       price_per_sqft  \n",
       "0                3699  \n",
       "1                4615  \n",
       "2                4305  \n",
       "3                6245  \n",
       "4                4250  \n",
       "...               ...  \n",
       "13195            6689  \n",
       "13196           11111  \n",
       "13197            5258  \n",
       "13198           10407  \n",
       "13199            3090  \n",
       "\n",
       "[13200 rows x 7 columns]"
      ]
     },
     "execution_count": 19,
     "metadata": {},
     "output_type": "execute_result"
    }
   ],
   "source": [
    "df = pd.read_csv(\"house_price.csv\")\n",
    "mean = df[\"price_per_sqft\"].mean()\n",
    "std_dev = df[\"price_per_sqft\"].std()\n",
    "lower_bound = mean - 3 * std_dev\n",
    "upper_bound = mean + 3 * std_dev\n",
    "\n",
    "outliers = df[(df[\"price_per_sqft\"] < lower_bound) | (df[\"price_per_sqft\"] > upper_bound)]\n",
    "print(outliers)\n",
    "df"
   ]
  },
  {
   "cell_type": "markdown",
   "id": "a756ad30-f76a-476b-8093-324ebf6204af",
   "metadata": {},
   "source": [
    "##### Removal Methods:"
   ]
  },
  {
   "cell_type": "code",
   "execution_count": 62,
   "id": "02576e02-c52d-4557-9588-f0fb45193799",
   "metadata": {},
   "outputs": [
    {
     "name": "stdout",
     "output_type": "stream",
     "text": [
      "Before trimming outliers:  13200\n",
      "After trimming outliers:  13200\n",
      "Total outliers found:  0\n"
     ]
    }
   ],
   "source": [
    "# Trimming:\n",
    "df_trimming = df[(df[\"price_per_sqft\"] >= lower_bound) & (df[\"price_per_sqft\"] <= upper_bound)]\n",
    "\n",
    "print(\"Before trimming outliers: \", len(df))\n",
    "print(\"After trimming outliers: \", len(df_trimming))\n",
    "print(\"Total outliers found: \", len(df) - len(df_trimming))"
   ]
  },
  {
   "cell_type": "code",
   "execution_count": 51,
   "id": "220f0db7-52b7-410c-baea-bf823611eed4",
   "metadata": {},
   "outputs": [
    {
     "name": "stdout",
     "output_type": "stream",
     "text": [
      "Dataset before capping:\n",
      "____________________________________________________\n",
      "\n",
      "         total_sqft          bath         price           bhk  price_per_sqft\n",
      "count  13200.000000  13200.000000  13200.000000  13200.000000    13200.000000\n",
      "mean    1555.302783      2.691136    112.276178      2.800833     6835.446522\n",
      "std     1237.323445      1.338915    149.175995      1.292843     7930.115195\n",
      "min        1.000000      1.000000      8.000000      1.000000      267.000000\n",
      "25%     1100.000000      2.000000     50.000000      2.000000     4267.000000\n",
      "50%     1275.000000      2.000000     71.850000      3.000000     5438.000000\n",
      "75%     1672.000000      3.000000    120.000000      3.000000     7317.000000\n",
      "max    52272.000000     40.000000   3600.000000     43.000000   328101.817727\n",
      "\n",
      "Dataset after capping:\n",
      "____________________________________________________\n",
      "\n",
      "         total_sqft          bath         price           bhk  price_per_sqft\n",
      "count  13200.000000  13200.000000  13200.000000  13200.000000    13200.000000\n",
      "mean    1555.302783      2.691136    112.276178      2.800833     6835.446522\n",
      "std     1237.323445      1.338915    149.175995      1.292843     7930.115195\n",
      "min        1.000000      1.000000      8.000000      1.000000      267.000000\n",
      "25%     1100.000000      2.000000     50.000000      2.000000     4267.000000\n",
      "50%     1275.000000      2.000000     71.850000      3.000000     5438.000000\n",
      "75%     1672.000000      3.000000    120.000000      3.000000     7317.000000\n",
      "max    52272.000000     40.000000   3600.000000     43.000000   328101.817727\n"
     ]
    }
   ],
   "source": [
    "# Capping:\n",
    "print(\"Dataset before capping:\")\n",
    "print(\"____________________________________________________\\n\")\n",
    "print(df.describe())\n",
    "df[\"price_per_sqft\"] = np.clip(df[\"price_per_sqft\"], lower_bound, upper_bound)\n",
    "print(\"\\nDataset after capping:\")\n",
    "print(\"____________________________________________________\\n\")\n",
    "print(df.describe())"
   ]
  },
  {
   "cell_type": "markdown",
   "id": "6de3fda8-7a53-4594-9a97-0e48ab2ef441",
   "metadata": {},
   "source": [
    "### b) Percentile Method"
   ]
  },
  {
   "cell_type": "markdown",
   "id": "cd3ad209-a772-4144-9f1c-4bc85b24b2ee",
   "metadata": {},
   "source": [
    "##### Outlier Detection:"
   ]
  },
  {
   "cell_type": "code",
   "execution_count": 81,
   "id": "850978e2-8ab0-4356-b83e-8c7f8a37f865",
   "metadata": {},
   "outputs": [
    {
     "name": "stdout",
     "output_type": "stream",
     "text": [
      "              location       size  total_sqft  bath   price  bhk  \\\n",
      "9                other  6 Bedroom      1020.0   6.0   370.0    6   \n",
      "20             Kengeri      1 BHK       600.0   1.0    15.0    1   \n",
      "45          HSR Layout  8 Bedroom       600.0   9.0   200.0    8   \n",
      "130    Electronic City      2 BHK       880.0   1.0    16.5    2   \n",
      "169           Attibele      1 BHK       450.0   1.0    11.0    1   \n",
      "...                ...        ...         ...   ...     ...  ...   \n",
      "13081            other  6 Bedroom      8000.0   6.0  2800.0    6   \n",
      "13094            other  4 Bedroom      1200.0   5.0   325.0    4   \n",
      "13127            other  4 Bedroom      1200.0   5.0   325.0    4   \n",
      "13185         Hulimavu      1 BHK       500.0   1.0   220.0    1   \n",
      "13186            other  4 Bedroom      1200.0   5.0   325.0    4   \n",
      "\n",
      "       price_per_sqft  \n",
      "9               36274  \n",
      "20               2500  \n",
      "45              33333  \n",
      "130              1875  \n",
      "169              2444  \n",
      "...               ...  \n",
      "13081           35000  \n",
      "13094           27083  \n",
      "13127           27083  \n",
      "13185           44000  \n",
      "13186           27083  \n",
      "\n",
      "[259 rows x 7 columns]\n"
     ]
    }
   ],
   "source": [
    "df = pd.read_csv(\"house_price.csv\")\n",
    "low_percentile = df[\"price_per_sqft\"].quantile(0.01)\n",
    "high_percentile = df[\"price_per_sqft\"].quantile(0.99)\n",
    "\n",
    "outliers = df[(df[\"price_per_sqft\"] < low_percentile) | (df[\"price_per_sqft\"] > high_percentile)]\n",
    "print(outliers)"
   ]
  },
  {
   "cell_type": "markdown",
   "id": "f99c4bc5-22b9-43d0-bcae-3cc9e26457c6",
   "metadata": {},
   "source": [
    "##### Removal Methods:"
   ]
  },
  {
   "cell_type": "code",
   "execution_count": 66,
   "id": "f263adcf-6c24-41dc-b448-a82f211584f8",
   "metadata": {},
   "outputs": [
    {
     "name": "stdout",
     "output_type": "stream",
     "text": [
      "Before trimming percentile outliers:  13200\n",
      "After trimming percentile outliers:  12941\n",
      "Total outliers found:  259\n"
     ]
    }
   ],
   "source": [
    "# Trimming:\n",
    "df_percentile_trimming = df[(df[\"price_per_sqft\"] >= low_percentile) & (df[\"price_per_sqft\"] <= high_percentile)]\n",
    "\n",
    "print(\"Before trimming percentile outliers: \", len(df))\n",
    "print(\"After trimming percentile outliers: \", len(df_percentile_trimming))\n",
    "print(\"Total outliers found: \", len(df) - len(df_percentile_trimming))"
   ]
  },
  {
   "cell_type": "code",
   "execution_count": 68,
   "id": "ad88dd99-9253-4021-9284-69e414c3a86a",
   "metadata": {},
   "outputs": [
    {
     "name": "stdout",
     "output_type": "stream",
     "text": [
      "Dataset before percentile capping:\n",
      "____________________________________________________\n",
      "\n",
      "         total_sqft          bath         price           bhk  price_per_sqft\n",
      "count  13200.000000  13200.000000  13200.000000  13200.000000    13200.000000\n",
      "mean    1555.302783      2.691136    112.276178      2.800833     6835.446522\n",
      "std     1237.323445      1.338915    149.175995      1.292843     7930.115195\n",
      "min        1.000000      1.000000      8.000000      1.000000      267.000000\n",
      "25%     1100.000000      2.000000     50.000000      2.000000     4267.000000\n",
      "50%     1275.000000      2.000000     71.850000      3.000000     5438.000000\n",
      "75%     1672.000000      3.000000    120.000000      3.000000     7317.000000\n",
      "max    52272.000000     40.000000   3600.000000     43.000000   328101.817727\n",
      "\n",
      "Dataset after percentile capping:\n",
      "____________________________________________________\n",
      "\n",
      "         total_sqft          bath         price           bhk  price_per_sqft\n",
      "count  13200.000000  13200.000000  13200.000000  13200.000000    13200.000000\n",
      "mean    1555.302783      2.691136    112.276178      2.800833     6628.726394\n",
      "std     1237.323445      1.338915    149.175995      1.292843     3886.806902\n",
      "min        1.000000      1.000000      8.000000      1.000000     2549.000000\n",
      "25%     1100.000000      2.000000     50.000000      2.000000     4267.000000\n",
      "50%     1275.000000      2.000000     71.850000      3.000000     5438.000000\n",
      "75%     1672.000000      3.000000    120.000000      3.000000     7317.000000\n",
      "max    52272.000000     40.000000   3600.000000     43.000000    23674.450000\n"
     ]
    }
   ],
   "source": [
    "# Capping:\n",
    "print(\"Dataset before percentile capping:\")\n",
    "print(\"____________________________________________________\\n\")\n",
    "print(df.describe())\n",
    "df[\"price_per_sqft\"] = np.clip(df[\"price_per_sqft\"], low_percentile, high_percentile)\n",
    "print(\"\\nDataset after percentile capping:\")\n",
    "print(\"____________________________________________________\\n\")\n",
    "print(df.describe())"
   ]
  },
  {
   "cell_type": "markdown",
   "id": "244a48ac-7599-441e-a986-fb3ac287b8f3",
   "metadata": {},
   "source": [
    "### c) IQR (Interquartile Range) Method"
   ]
  },
  {
   "cell_type": "markdown",
   "id": "89fed536-d4ab-4e6e-a0c9-a07e2eb5fa35",
   "metadata": {},
   "source": [
    "##### Outlier Detection:"
   ]
  },
  {
   "cell_type": "code",
   "execution_count": 83,
   "id": "14977d95-9d3b-4c20-8662-afe02dc69867",
   "metadata": {},
   "outputs": [
    {
     "name": "stdout",
     "output_type": "stream",
     "text": [
      "               location       size  total_sqft  bath  price  bhk  \\\n",
      "7          Rajaji Nagar      4 BHK      3300.0   4.0  600.0    4   \n",
      "9                 other  6 Bedroom      1020.0   6.0  370.0    6   \n",
      "22          Thanisandra  4 Bedroom      2800.0   5.0  380.0    4   \n",
      "45           HSR Layout  8 Bedroom       600.0   9.0  200.0    8   \n",
      "48             KR Puram  2 Bedroom       800.0   1.0  130.0    2   \n",
      "...                 ...        ...         ...   ...    ...  ...   \n",
      "13142             other      2 BHK      1140.0   1.0  185.0    2   \n",
      "13157             other  7 Bedroom      1400.0   7.0  218.0    7   \n",
      "13185          Hulimavu      1 BHK       500.0   1.0  220.0    1   \n",
      "13186             other  4 Bedroom      1200.0   5.0  325.0    4   \n",
      "13191  Ramamurthy Nagar  7 Bedroom      1500.0   9.0  250.0    7   \n",
      "\n",
      "       price_per_sqft  \n",
      "7               18181  \n",
      "9               36274  \n",
      "22              13571  \n",
      "45              33333  \n",
      "48              16250  \n",
      "...               ...  \n",
      "13142           16228  \n",
      "13157           15571  \n",
      "13185           44000  \n",
      "13186           27083  \n",
      "13191           16666  \n",
      "\n",
      "[1265 rows x 7 columns]\n"
     ]
    }
   ],
   "source": [
    "df = pd.read_csv(\"house_price.csv\")\n",
    "Q1 = df[\"price_per_sqft\"].quantile(0.25)\n",
    "Q3 = df[\"price_per_sqft\"].quantile(0.75)\n",
    "IQR = Q3 - Q1\n",
    "\n",
    "lower_bound = Q1 - 1.5 * IQR\n",
    "upper_bound = Q3 + 1.5 * IQR\n",
    "\n",
    "outliers = df[(df[\"price_per_sqft\"] < lower_bound) | (df[\"price_per_sqft\"] > upper_bound)]\n",
    "print(outliers)"
   ]
  },
  {
   "cell_type": "markdown",
   "id": "7397e374-011e-4d77-9ba7-b30baf9fd347",
   "metadata": {},
   "source": [
    "##### Removal Methods:"
   ]
  },
  {
   "cell_type": "code",
   "execution_count": 89,
   "id": "a6db17bc-860e-4cad-9f6e-34bc55b0dca8",
   "metadata": {},
   "outputs": [
    {
     "name": "stdout",
     "output_type": "stream",
     "text": [
      "Before trimming IQR outliers:  13200\n",
      "After trimming IQR outliers:  13200\n",
      "Total outliers found:  0\n"
     ]
    }
   ],
   "source": [
    "# Trimming:\n",
    "df_iqr_trimming = df[(df[\"price_per_sqft\"] >= lower_bound) & (df[\"price_per_sqft\"] <= upper_bound)]\n",
    "\n",
    "print(\"Before trimming IQR outliers: \", len(df))\n",
    "print(\"After trimming IQR outliers: \", len(df_iqr_trimming))\n",
    "print(\"Total outliers found: \", len(df) - len(df_iqr_trimming))"
   ]
  },
  {
   "cell_type": "code",
   "execution_count": 91,
   "id": "4ad59dfe-5233-4619-8bd4-ecd1140d4ee5",
   "metadata": {},
   "outputs": [
    {
     "name": "stdout",
     "output_type": "stream",
     "text": [
      "Dataset before IQR capping:\n",
      "____________________________________________________\n",
      "\n",
      "         total_sqft          bath         price           bhk  price_per_sqft\n",
      "count  13200.000000  13200.000000  13200.000000  13200.000000    13200.000000\n",
      "mean    1555.302783      2.691136    112.276178      2.800833     6181.215985\n",
      "std     1237.323445      1.338915    149.175995      1.292843     2631.064261\n",
      "min        1.000000      1.000000      8.000000      1.000000      267.000000\n",
      "25%     1100.000000      2.000000     50.000000      2.000000     4267.000000\n",
      "50%     1275.000000      2.000000     71.850000      3.000000     5438.000000\n",
      "75%     1672.000000      3.000000    120.000000      3.000000     7317.000000\n",
      "max    52272.000000     40.000000   3600.000000     43.000000    11892.000000\n",
      "\n",
      "Dataset after IQR capping:\n",
      "____________________________________________________\n",
      "\n",
      "         total_sqft          bath         price           bhk  price_per_sqft\n",
      "count  13200.000000  13200.000000  13200.000000  13200.000000    13200.000000\n",
      "mean    1555.302783      2.691136    112.276178      2.800833     6181.215985\n",
      "std     1237.323445      1.338915    149.175995      1.292843     2631.064261\n",
      "min        1.000000      1.000000      8.000000      1.000000      267.000000\n",
      "25%     1100.000000      2.000000     50.000000      2.000000     4267.000000\n",
      "50%     1275.000000      2.000000     71.850000      3.000000     5438.000000\n",
      "75%     1672.000000      3.000000    120.000000      3.000000     7317.000000\n",
      "max    52272.000000     40.000000   3600.000000     43.000000    11892.000000\n"
     ]
    }
   ],
   "source": [
    "# Capping:\n",
    "print(\"Dataset before IQR capping:\")\n",
    "print(\"____________________________________________________\\n\")\n",
    "print(df.describe())\n",
    "df[\"price_per_sqft\"] = np.clip(df[\"price_per_sqft\"], lower_bound, upper_bound)\n",
    "print(\"\\nDataset after IQR capping:\")\n",
    "print(\"____________________________________________________\\n\")\n",
    "print(df.describe())"
   ]
  },
  {
   "cell_type": "markdown",
   "id": "4df8887b-3b5f-4122-bc10-0563e9fa86fb",
   "metadata": {},
   "source": [
    "### d) Z-Score Method"
   ]
  },
  {
   "cell_type": "markdown",
   "id": "d6cf1160-e284-483f-bc5f-d64ded26d54e",
   "metadata": {},
   "source": [
    "##### Outlier Detection:"
   ]
  },
  {
   "cell_type": "code",
   "execution_count": 95,
   "id": "185bcb12-0984-4a6f-93f8-802df24499db",
   "metadata": {},
   "outputs": [
    {
     "name": "stdout",
     "output_type": "stream",
     "text": [
      "             location       size  total_sqft  bath  price  bhk  \\\n",
      "345             other  3 Bedroom        11.0   3.0   74.0    3   \n",
      "1106            other  5 Bedroom        24.0   2.0  150.0    5   \n",
      "4044   Sarjapur  Road  4 Bedroom         1.0   4.0  120.0    4   \n",
      "4924            other      7 BHK         5.0   7.0  115.0    7   \n",
      "11447      Whitefield  4 Bedroom        60.0   4.0  218.0    4   \n",
      "\n",
      "       price_per_sqft     z_score  \n",
      "345            672727    6.229030  \n",
      "1106           625000    5.781843  \n",
      "4044         12000000  112.362023  \n",
      "4924          2300000   21.476067  \n",
      "11447          363333    3.330105  \n"
     ]
    }
   ],
   "source": [
    "df = pd.read_csv(\"house_price.csv\")\n",
    "df[\"z_score\"] = (df[\"price_per_sqft\"] - df[\"price_per_sqft\"].mean()) / df[\"price_per_sqft\"].std()\n",
    "outliers = df[(df[\"z_score\"] < -3) | (df[\"z_score\"] > 3)]\n",
    "print(outliers)"
   ]
  },
  {
   "cell_type": "markdown",
   "id": "72175ccc-2a59-42e6-a5b9-7bbf2550d1e6",
   "metadata": {},
   "source": [
    "##### Removal Methods:"
   ]
  },
  {
   "cell_type": "code",
   "execution_count": 98,
   "id": "54ada130-f599-414d-93aa-0279259afd9b",
   "metadata": {},
   "outputs": [
    {
     "name": "stdout",
     "output_type": "stream",
     "text": [
      "Before trimming IQR outliers:  13200\n",
      "After trimming IQR outliers:  13195\n",
      "Total outliers found:  5\n"
     ]
    }
   ],
   "source": [
    "# Trimming:\n",
    "df_zscore_trimming = df[df[\"z_score\"].abs() <= 3]\n",
    "\n",
    "print(\"Before trimming IQR outliers: \", len(df))\n",
    "print(\"After trimming IQR outliers: \", len(df_zscore_trimming))\n",
    "print(\"Total outliers found: \", len(df) - len(df_zscore_trimming))"
   ]
  },
  {
   "cell_type": "code",
   "execution_count": 104,
   "id": "c41b85fc-6352-466f-b657-33fc1b16e0b3",
   "metadata": {},
   "outputs": [
    {
     "name": "stdout",
     "output_type": "stream",
     "text": [
      "Dataset before Z-Score Imputation Mean:\n",
      "____________________________________________________\n",
      "\n",
      "         total_sqft          bath         price           bhk  price_per_sqft  \\\n",
      "count  13200.000000  13200.000000  13200.000000  13200.000000    13200.000000   \n",
      "mean    1555.302783      2.691136    112.276178      2.800833     6713.225379   \n",
      "std     1237.323445      1.338915    149.175995      1.292843     4875.867134   \n",
      "min        1.000000      1.000000      8.000000      1.000000      267.000000   \n",
      "25%     1100.000000      2.000000     50.000000      2.000000     4267.000000   \n",
      "50%     1275.000000      2.000000     71.850000      3.000000     5438.000000   \n",
      "75%     1672.000000      3.000000    120.000000      3.000000     7313.000000   \n",
      "max    52272.000000     40.000000   3600.000000     43.000000   200000.000000   \n",
      "\n",
      "            z_score  \n",
      "count  1.320000e+04  \n",
      "mean  -1.076580e-18  \n",
      "std    1.000000e+00  \n",
      "min   -7.170936e-02  \n",
      "25%   -3.423062e-02  \n",
      "50%   -2.325872e-02  \n",
      "75%   -5.653076e-03  \n",
      "max    1.123620e+02  \n",
      "\n",
      "Dataset after Z-Score Imputation Mean:\n",
      "____________________________________________________\n",
      "\n",
      "         total_sqft          bath         price           bhk  price_per_sqft  \\\n",
      "count  13200.000000  13200.000000  13200.000000  13200.000000    13200.000000   \n",
      "mean    1555.302783      2.691136    112.276178      2.800833     6713.708419   \n",
      "std     1237.323445      1.338915    149.175995      1.292843     4875.803938   \n",
      "min        1.000000      1.000000      8.000000      1.000000      267.000000   \n",
      "25%     1100.000000      2.000000     50.000000      2.000000     4267.000000   \n",
      "50%     1275.000000      2.000000     71.850000      3.000000     5438.000000   \n",
      "75%     1672.000000      3.000000    120.000000      3.000000     7313.000000   \n",
      "max    52272.000000     40.000000   3600.000000     43.000000   200000.000000   \n",
      "\n",
      "            z_score  \n",
      "count  1.320000e+04  \n",
      "mean  -1.076580e-18  \n",
      "std    1.000000e+00  \n",
      "min   -7.170936e-02  \n",
      "25%   -3.423062e-02  \n",
      "50%   -2.325872e-02  \n",
      "75%   -5.653076e-03  \n",
      "max    1.123620e+02  \n"
     ]
    }
   ],
   "source": [
    "# Imputation with mean:\n",
    "print(\"Dataset before Z-Score Imputation Mean:\")\n",
    "print(\"____________________________________________________\\n\")\n",
    "print(df.describe())\n",
    "df.loc[df[\"z_score\"].abs() > 3, \"price_per_sqft\"] = df[\"price_per_sqft\"].mean()\n",
    "print(\"\\nDataset after Z-Score Imputation Mean:\")\n",
    "print(\"____________________________________________________\\n\")\n",
    "print(df.describe())"
   ]
  },
  {
   "cell_type": "code",
   "execution_count": 102,
   "id": "1943e4b0-db9a-466e-a5ca-9e8bd1b75c42",
   "metadata": {},
   "outputs": [
    {
     "name": "stdout",
     "output_type": "stream",
     "text": [
      "Dataset before Z-Score Imputation:\n",
      "____________________________________________________\n",
      "\n",
      "         total_sqft          bath         price           bhk  price_per_sqft  \\\n",
      "count  13200.000000  13200.000000  13200.000000  13200.000000    13200.000000   \n",
      "mean    1555.302783      2.691136    112.276178      2.800833     6714.165658   \n",
      "std     1237.323445      1.338915    149.175995      1.292843     4875.860475   \n",
      "min        1.000000      1.000000      8.000000      1.000000      267.000000   \n",
      "25%     1100.000000      2.000000     50.000000      2.000000     4267.000000   \n",
      "50%     1275.000000      2.000000     71.850000      3.000000     5438.000000   \n",
      "75%     1672.000000      3.000000    120.000000      3.000000     7317.000000   \n",
      "max    52272.000000     40.000000   3600.000000     43.000000   200000.000000   \n",
      "\n",
      "            z_score  \n",
      "count  1.320000e+04  \n",
      "mean  -1.076580e-18  \n",
      "std    1.000000e+00  \n",
      "min   -7.170936e-02  \n",
      "25%   -3.423062e-02  \n",
      "50%   -2.325872e-02  \n",
      "75%   -5.653076e-03  \n",
      "max    1.123620e+02  \n",
      "\n",
      "Dataset after Z-Score Imputation:\n",
      "____________________________________________________\n",
      "\n",
      "         total_sqft          bath         price           bhk  price_per_sqft  \\\n",
      "count  13200.000000  13200.000000  13200.000000  13200.000000    13200.000000   \n",
      "mean    1555.302783      2.691136    112.276178      2.800833     6713.225379   \n",
      "std     1237.323445      1.338915    149.175995      1.292843     4875.867134   \n",
      "min        1.000000      1.000000      8.000000      1.000000      267.000000   \n",
      "25%     1100.000000      2.000000     50.000000      2.000000     4267.000000   \n",
      "50%     1275.000000      2.000000     71.850000      3.000000     5438.000000   \n",
      "75%     1672.000000      3.000000    120.000000      3.000000     7313.000000   \n",
      "max    52272.000000     40.000000   3600.000000     43.000000   200000.000000   \n",
      "\n",
      "            z_score  \n",
      "count  1.320000e+04  \n",
      "mean  -1.076580e-18  \n",
      "std    1.000000e+00  \n",
      "min   -7.170936e-02  \n",
      "25%   -3.423062e-02  \n",
      "50%   -2.325872e-02  \n",
      "75%   -5.653076e-03  \n",
      "max    1.123620e+02  \n"
     ]
    }
   ],
   "source": [
    "# Imputation with median:\n",
    "print(\"Dataset before Z-Score Imputation Median:\")\n",
    "print(\"____________________________________________________\\n\")\n",
    "print(df.describe())\n",
    "df.loc[df[\"z_score\"].abs() > 3, \"price_per_sqft\"] = df[\"price_per_sqft\"].median()\n",
    "print(\"\\nDataset after Z-Score Imputation Median:\")\n",
    "print(\"____________________________________________________\\n\")\n",
    "print(df.describe())"
   ]
  },
  {
   "cell_type": "code",
   "execution_count": null,
   "id": "edf35f19-2183-4c15-a73c-865aba70a551",
   "metadata": {},
   "outputs": [],
   "source": []
  }
 ],
 "metadata": {
  "kernelspec": {
   "display_name": "Python [conda env:base] *",
   "language": "python",
   "name": "conda-base-py"
  },
  "language_info": {
   "codemirror_mode": {
    "name": "ipython",
    "version": 3
   },
   "file_extension": ".py",
   "mimetype": "text/x-python",
   "name": "python",
   "nbconvert_exporter": "python",
   "pygments_lexer": "ipython3",
   "version": "3.12.7"
  }
 },
 "nbformat": 4,
 "nbformat_minor": 5
}
