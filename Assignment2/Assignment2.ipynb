{
 "cells": [
  {
   "cell_type": "markdown",
   "id": "89657d60-c681-4449-b51d-76381d9578f6",
   "metadata": {},
   "source": [
    "#### Data Exploration:\n",
    "##### Explore the data, list down the unique values in each feature and find its length. Perform the statistical analysis and renaming of the columns.\n"
   ]
  },
  {
   "cell_type": "code",
   "execution_count": 95,
   "id": "81e01205-7669-4f20-bf77-538e099426c5",
   "metadata": {},
   "outputs": [],
   "source": [
    "import pandas as pd\n",
    "import numpy as np\n",
    "import matplotlib.pyplot as plt\n",
    "import seaborn as sns"
   ]
  },
  {
   "cell_type": "code",
   "execution_count": 97,
   "id": "89c302d4-eb6a-4680-ab21-974e14305ce5",
   "metadata": {},
   "outputs": [],
   "source": [
    "df = pd.read_csv(\"Employee.csv\")"
   ]
  },
  {
   "cell_type": "code",
   "execution_count": 99,
   "id": "cb6df532-b6a1-4016-abd4-90c4bdfc9553",
   "metadata": {},
   "outputs": [
    {
     "name": "stdout",
     "output_type": "stream",
     "text": [
      "Company: 7 unique values\n",
      "Unique values: ['TCS' 'Infosys' 'CTS' nan 'Tata Consultancy Services' 'Congnizant'\n",
      " 'Infosys Pvt Lmt']\n",
      "Age: 30 unique values\n",
      "Unique values: [20. 30. 35. 40. 23. nan 34. 45. 18. 22. 32. 37. 50. 21. 46. 36. 26. 41.\n",
      " 24. 25. 43. 19. 38. 51. 31. 44. 33. 17.  0. 54.]\n",
      "Salary: 41 unique values\n",
      "Unique values: [  nan 2300. 3000. 4000. 5000. 6000. 7000. 8000. 9000. 1089. 1234. 3030.\n",
      " 3045. 3184. 4824. 5835. 7084. 8943. 8345. 9284. 9876. 2034. 7654. 2934.\n",
      " 4034. 5034. 8202. 9024. 4345. 6544. 6543. 3234. 4324. 5435. 5555. 8787.\n",
      " 3454. 5654. 5009. 5098. 3033.]\n",
      "Place: 12 unique values\n",
      "Unique values: ['Chennai' 'Mumbai' 'Calcutta' 'Delhi' 'Podicherry' 'Cochin' nan 'Noida'\n",
      " 'Hyderabad' 'Bhopal' 'Nagpur' 'Pune']\n",
      "Country: 1 unique values\n",
      "Unique values: ['India']\n",
      "Gender: 2 unique values\n",
      "Unique values: [0 1]\n"
     ]
    }
   ],
   "source": [
    "# List unique values and their lengths for each feature\n",
    "for column in df.columns:\n",
    "    unique_values = df[column].unique()\n",
    "    print(f\"{column}: {len(unique_values)} unique values\")\n",
    "    if(column != \"Age\" or column != \"Salary\"):\n",
    "        print(f\"Unique values: {unique_values}\")  # Display first 10 unique values\n",
    "    else:\n",
    "        print(f\"Unique values: {unique_values[:10]}\")  # Display first 10 unique values"
   ]
  },
  {
   "cell_type": "code",
   "execution_count": 101,
   "id": "580bb914-59ec-4c02-96fc-319593fadfd4",
   "metadata": {},
   "outputs": [
    {
     "name": "stdout",
     "output_type": "stream",
     "text": [
      "Statistical Analysis:\n",
      "               Age       Salary      Gender\n",
      "count  130.000000   124.000000  148.000000\n",
      "mean    30.484615  5312.467742    0.222973\n",
      "std     11.096640  2573.764683    0.417654\n",
      "min      0.000000  1089.000000    0.000000\n",
      "25%     22.000000  3030.000000    0.000000\n",
      "50%     32.500000  5000.000000    0.000000\n",
      "75%     37.750000  8000.000000    0.000000\n",
      "max     54.000000  9876.000000    1.000000\n",
      "Categorical Data Analysis:\n",
      "        Company   Place Country\n",
      "count      140     134     148\n",
      "unique       6      11       1\n",
      "top        TCS  Mumbai   India\n",
      "freq        53      37     148\n"
     ]
    }
   ],
   "source": [
    "# Generate descriptive statistics for numerical columns\n",
    "stats = df.describe(include=[np.number])\n",
    "print(\"Statistical Analysis:\\n\", stats)\n",
    "\n",
    "# Generate statistics for categorical columns\n",
    "categorical_stats = df.describe(include=['object'])\n",
    "print(\"Categorical Data Analysis:\\n\", categorical_stats)"
   ]
  },
  {
   "cell_type": "markdown",
   "id": "da61f0ba-b1aa-4629-a150-8f3648f90716",
   "metadata": {},
   "source": [
    "#### Data Cleaning:\n",
    "##### Find the missing and inappropriate values, treat them appropriately.\n",
    "##### Remove all duplicate rows.\n",
    "##### Find the outliers.\n",
    "##### Replace the value 0 in age as NaN\n",
    "##### Treat the null values in all columns using any measures(removing/ replace the values with mean/median/mode)\n"
   ]
  },
  {
   "cell_type": "code",
   "execution_count": 103,
   "id": "c4284be6-3850-4adf-a043-eef6db836c11",
   "metadata": {},
   "outputs": [],
   "source": [
    "# replace and keep the unique name\n",
    "df[\"Company\"] = df[\"Company\"].replace(\"Tata Consultancy Services\", \"TCS\")\n",
    "df[\"Company\"] = df[\"Company\"].replace(\"Infosys Pvt Lmt\", \"Infosys\")"
   ]
  },
  {
   "cell_type": "code",
   "execution_count": 105,
   "id": "adac416f-cced-4a47-a422-2016fde3946b",
   "metadata": {},
   "outputs": [
    {
     "name": "stderr",
     "output_type": "stream",
     "text": [
      "C:\\Users\\LENOVO\\AppData\\Local\\Temp\\ipykernel_18660\\3875021966.py:1: FutureWarning: A value is trying to be set on a copy of a DataFrame or Series through chained assignment using an inplace method.\n",
      "The behavior will change in pandas 3.0. This inplace method will never work because the intermediate object on which we are setting values always behaves as a copy.\n",
      "\n",
      "For example, when doing 'df[col].method(value, inplace=True)', try using 'df.method({col: value}, inplace=True)' or df[col] = df[col].method(value) instead, to perform the operation inplace on the original object.\n",
      "\n",
      "\n",
      "  df['Company'].fillna(value=\"Wipro\", inplace=True)\n"
     ]
    }
   ],
   "source": [
    "df['Company'].fillna(value=\"Wipro\", inplace=True)"
   ]
  },
  {
   "cell_type": "code",
   "execution_count": 107,
   "id": "9acd3c7a-495b-4e48-b9ca-833f748d0853",
   "metadata": {},
   "outputs": [
    {
     "name": "stderr",
     "output_type": "stream",
     "text": [
      "C:\\Users\\LENOVO\\AppData\\Local\\Temp\\ipykernel_18660\\2304249500.py:1: FutureWarning: A value is trying to be set on a copy of a DataFrame or Series through chained assignment using an inplace method.\n",
      "The behavior will change in pandas 3.0. This inplace method will never work because the intermediate object on which we are setting values always behaves as a copy.\n",
      "\n",
      "For example, when doing 'df[col].method(value, inplace=True)', try using 'df.method({col: value}, inplace=True)' or df[col] = df[col].method(value) instead, to perform the operation inplace on the original object.\n",
      "\n",
      "\n",
      "  df['Place'].fillna(value=\"Bengaluru\", inplace=True)\n"
     ]
    }
   ],
   "source": [
    "df['Place'].fillna(value=\"Bengaluru\", inplace=True)"
   ]
  },
  {
   "cell_type": "code",
   "execution_count": 109,
   "id": "f105d8e9-da93-4279-a935-7bbf45b8d042",
   "metadata": {},
   "outputs": [
    {
     "data": {
      "text/plain": [
       "0"
      ]
     },
     "execution_count": 109,
     "metadata": {},
     "output_type": "execute_result"
    }
   ],
   "source": [
    "df['Place'].isnull().sum()"
   ]
  },
  {
   "cell_type": "code",
   "execution_count": 111,
   "id": "26a385f2-b9f3-4591-a4a6-30db943b95e1",
   "metadata": {},
   "outputs": [
    {
     "data": {
      "text/plain": [
       "array(['Chennai', 'Mumbai', 'Calcutta', 'Delhi', 'Podicherry', 'Cochin',\n",
       "       'Bengaluru', 'Noida', 'Hyderabad', 'Bhopal', 'Nagpur', 'Pune'],\n",
       "      dtype=object)"
      ]
     },
     "execution_count": 111,
     "metadata": {},
     "output_type": "execute_result"
    }
   ],
   "source": [
    "df['Place'].unique()"
   ]
  },
  {
   "cell_type": "code",
   "execution_count": 113,
   "id": "638d3d2f-7c20-482c-b671-31b315761e7b",
   "metadata": {},
   "outputs": [
    {
     "data": {
      "text/plain": [
       "0      False\n",
       "1      False\n",
       "2      False\n",
       "3      False\n",
       "4      False\n",
       "       ...  \n",
       "143    False\n",
       "144     True\n",
       "145    False\n",
       "146    False\n",
       "147    False\n",
       "Length: 148, dtype: bool"
      ]
     },
     "execution_count": 113,
     "metadata": {},
     "output_type": "execute_result"
    }
   ],
   "source": [
    "df.duplicated()"
   ]
  },
  {
   "cell_type": "code",
   "execution_count": 115,
   "id": "c5d8ce8e-47a1-436d-a20c-23c1ac5ea4f9",
   "metadata": {},
   "outputs": [
    {
     "name": "stdout",
     "output_type": "stream",
     "text": [
      "Before Duplicated Removal -  148\n",
      "After Duplicated Removal -  144\n"
     ]
    }
   ],
   "source": [
    "duplicated_items = df.duplicated()\n",
    "print('Before Duplicated Removal - ', len(duplicated_items))\n",
    "df = df.drop_duplicates()\n",
    "duplicated_items = df.duplicated()\n",
    "print('After Duplicated Removal - ', len(duplicated_items))"
   ]
  },
  {
   "cell_type": "code",
   "execution_count": 297,
   "id": "73863657-b7a3-4c25-a09c-897ac0d7743d",
   "metadata": {},
   "outputs": [
    {
     "data": {
      "text/html": [
       "<div>\n",
       "<style scoped>\n",
       "    .dataframe tbody tr th:only-of-type {\n",
       "        vertical-align: middle;\n",
       "    }\n",
       "\n",
       "    .dataframe tbody tr th {\n",
       "        vertical-align: top;\n",
       "    }\n",
       "\n",
       "    .dataframe thead th {\n",
       "        text-align: right;\n",
       "    }\n",
       "</style>\n",
       "<table border=\"1\" class=\"dataframe\">\n",
       "  <thead>\n",
       "    <tr style=\"text-align: right;\">\n",
       "      <th></th>\n",
       "      <th>Company</th>\n",
       "      <th>Age</th>\n",
       "      <th>Salary</th>\n",
       "      <th>Place</th>\n",
       "      <th>Country</th>\n",
       "      <th>Gender</th>\n",
       "    </tr>\n",
       "  </thead>\n",
       "  <tbody>\n",
       "    <tr>\n",
       "      <th>0</th>\n",
       "      <td>TCS</td>\n",
       "      <td>20.0</td>\n",
       "      <td>NaN</td>\n",
       "      <td>Chennai</td>\n",
       "      <td>India</td>\n",
       "      <td>0</td>\n",
       "    </tr>\n",
       "    <tr>\n",
       "      <th>1</th>\n",
       "      <td>Infosys</td>\n",
       "      <td>30.0</td>\n",
       "      <td>NaN</td>\n",
       "      <td>Mumbai</td>\n",
       "      <td>India</td>\n",
       "      <td>0</td>\n",
       "    </tr>\n",
       "    <tr>\n",
       "      <th>2</th>\n",
       "      <td>TCS</td>\n",
       "      <td>35.0</td>\n",
       "      <td>2300.0</td>\n",
       "      <td>Calcutta</td>\n",
       "      <td>India</td>\n",
       "      <td>0</td>\n",
       "    </tr>\n",
       "    <tr>\n",
       "      <th>3</th>\n",
       "      <td>Infosys</td>\n",
       "      <td>40.0</td>\n",
       "      <td>3000.0</td>\n",
       "      <td>Delhi</td>\n",
       "      <td>India</td>\n",
       "      <td>0</td>\n",
       "    </tr>\n",
       "    <tr>\n",
       "      <th>4</th>\n",
       "      <td>TCS</td>\n",
       "      <td>23.0</td>\n",
       "      <td>4000.0</td>\n",
       "      <td>Mumbai</td>\n",
       "      <td>India</td>\n",
       "      <td>0</td>\n",
       "    </tr>\n",
       "    <tr>\n",
       "      <th>...</th>\n",
       "      <td>...</td>\n",
       "      <td>...</td>\n",
       "      <td>...</td>\n",
       "      <td>...</td>\n",
       "      <td>...</td>\n",
       "      <td>...</td>\n",
       "    </tr>\n",
       "    <tr>\n",
       "      <th>142</th>\n",
       "      <td>Infosys</td>\n",
       "      <td>22.0</td>\n",
       "      <td>8202.0</td>\n",
       "      <td>Mumbai</td>\n",
       "      <td>India</td>\n",
       "      <td>0</td>\n",
       "    </tr>\n",
       "    <tr>\n",
       "      <th>143</th>\n",
       "      <td>TCS</td>\n",
       "      <td>33.0</td>\n",
       "      <td>9024.0</td>\n",
       "      <td>Calcutta</td>\n",
       "      <td>India</td>\n",
       "      <td>1</td>\n",
       "    </tr>\n",
       "    <tr>\n",
       "      <th>145</th>\n",
       "      <td>Infosys</td>\n",
       "      <td>44.0</td>\n",
       "      <td>4034.0</td>\n",
       "      <td>Delhi</td>\n",
       "      <td>India</td>\n",
       "      <td>1</td>\n",
       "    </tr>\n",
       "    <tr>\n",
       "      <th>146</th>\n",
       "      <td>TCS</td>\n",
       "      <td>33.0</td>\n",
       "      <td>5034.0</td>\n",
       "      <td>Mumbai</td>\n",
       "      <td>India</td>\n",
       "      <td>1</td>\n",
       "    </tr>\n",
       "    <tr>\n",
       "      <th>147</th>\n",
       "      <td>Infosys</td>\n",
       "      <td>22.0</td>\n",
       "      <td>8202.0</td>\n",
       "      <td>Cochin</td>\n",
       "      <td>India</td>\n",
       "      <td>0</td>\n",
       "    </tr>\n",
       "  </tbody>\n",
       "</table>\n",
       "<p>144 rows × 6 columns</p>\n",
       "</div>"
      ],
      "text/plain": [
       "     Company   Age  Salary     Place Country  Gender\n",
       "0        TCS  20.0     NaN   Chennai   India       0\n",
       "1    Infosys  30.0     NaN    Mumbai   India       0\n",
       "2        TCS  35.0  2300.0  Calcutta   India       0\n",
       "3    Infosys  40.0  3000.0     Delhi   India       0\n",
       "4        TCS  23.0  4000.0    Mumbai   India       0\n",
       "..       ...   ...     ...       ...     ...     ...\n",
       "142  Infosys  22.0  8202.0    Mumbai   India       0\n",
       "143      TCS  33.0  9024.0  Calcutta   India       1\n",
       "145  Infosys  44.0  4034.0     Delhi   India       1\n",
       "146      TCS  33.0  5034.0    Mumbai   India       1\n",
       "147  Infosys  22.0  8202.0    Cochin   India       0\n",
       "\n",
       "[144 rows x 6 columns]"
      ]
     },
     "execution_count": 297,
     "metadata": {},
     "output_type": "execute_result"
    }
   ],
   "source": [
    "df"
   ]
  },
  {
   "cell_type": "code",
   "execution_count": 117,
   "id": "58ba801a-2cde-4534-9cdc-89bd414dcb26",
   "metadata": {},
   "outputs": [
    {
     "data": {
      "text/html": [
       "<div>\n",
       "<style scoped>\n",
       "    .dataframe tbody tr th:only-of-type {\n",
       "        vertical-align: middle;\n",
       "    }\n",
       "\n",
       "    .dataframe tbody tr th {\n",
       "        vertical-align: top;\n",
       "    }\n",
       "\n",
       "    .dataframe thead th {\n",
       "        text-align: right;\n",
       "    }\n",
       "</style>\n",
       "<table border=\"1\" class=\"dataframe\">\n",
       "  <thead>\n",
       "    <tr style=\"text-align: right;\">\n",
       "      <th></th>\n",
       "      <th>Age</th>\n",
       "      <th>Salary</th>\n",
       "      <th>Gender</th>\n",
       "    </tr>\n",
       "  </thead>\n",
       "  <tbody>\n",
       "    <tr>\n",
       "      <th>count</th>\n",
       "      <td>105.000000</td>\n",
       "      <td>121.000000</td>\n",
       "      <td>121.000000</td>\n",
       "    </tr>\n",
       "    <tr>\n",
       "      <th>mean</th>\n",
       "      <td>30.447619</td>\n",
       "      <td>5283.471074</td>\n",
       "      <td>0.264463</td>\n",
       "    </tr>\n",
       "    <tr>\n",
       "      <th>std</th>\n",
       "      <td>11.615624</td>\n",
       "      <td>2585.373600</td>\n",
       "      <td>0.442881</td>\n",
       "    </tr>\n",
       "    <tr>\n",
       "      <th>min</th>\n",
       "      <td>0.000000</td>\n",
       "      <td>1089.000000</td>\n",
       "      <td>0.000000</td>\n",
       "    </tr>\n",
       "    <tr>\n",
       "      <th>25%</th>\n",
       "      <td>22.000000</td>\n",
       "      <td>3030.000000</td>\n",
       "      <td>0.000000</td>\n",
       "    </tr>\n",
       "    <tr>\n",
       "      <th>50%</th>\n",
       "      <td>33.000000</td>\n",
       "      <td>5000.000000</td>\n",
       "      <td>0.000000</td>\n",
       "    </tr>\n",
       "    <tr>\n",
       "      <th>75%</th>\n",
       "      <td>38.000000</td>\n",
       "      <td>8000.000000</td>\n",
       "      <td>1.000000</td>\n",
       "    </tr>\n",
       "    <tr>\n",
       "      <th>max</th>\n",
       "      <td>54.000000</td>\n",
       "      <td>9876.000000</td>\n",
       "      <td>1.000000</td>\n",
       "    </tr>\n",
       "  </tbody>\n",
       "</table>\n",
       "</div>"
      ],
      "text/plain": [
       "              Age       Salary      Gender\n",
       "count  105.000000   121.000000  121.000000\n",
       "mean    30.447619  5283.471074    0.264463\n",
       "std     11.615624  2585.373600    0.442881\n",
       "min      0.000000  1089.000000    0.000000\n",
       "25%     22.000000  3030.000000    0.000000\n",
       "50%     33.000000  5000.000000    0.000000\n",
       "75%     38.000000  8000.000000    1.000000\n",
       "max     54.000000  9876.000000    1.000000"
      ]
     },
     "execution_count": 117,
     "metadata": {},
     "output_type": "execute_result"
    }
   ],
   "source": [
    "# Detect and remove outliers using IQR method\n",
    "Q1 = df[\"Salary\"].quantile(0.25)\n",
    "Q3 = df[\"Salary\"].quantile(0.75)\n",
    "IQR = Q3 - Q1\n",
    "df_filtered = df[(df[\"Salary\"] >= Q1 - 1.5 * IQR) & (df[\"Salary\"] <= Q3 + 1.5 * IQR)]\n",
    "df_filtered.describe()"
   ]
  },
  {
   "cell_type": "code",
   "execution_count": 119,
   "id": "c6403e18-c683-47de-afd8-069a2ea9f245",
   "metadata": {},
   "outputs": [
    {
     "name": "stdout",
     "output_type": "stream",
     "text": [
      "17\n",
      "0\n"
     ]
    },
    {
     "name": "stderr",
     "output_type": "stream",
     "text": [
      "C:\\Users\\LENOVO\\AppData\\Local\\Temp\\ipykernel_18660\\512349376.py:2: FutureWarning: A value is trying to be set on a copy of a DataFrame or Series through chained assignment using an inplace method.\n",
      "The behavior will change in pandas 3.0. This inplace method will never work because the intermediate object on which we are setting values always behaves as a copy.\n",
      "\n",
      "For example, when doing 'df[col].method(value, inplace=True)', try using 'df.method({col: value}, inplace=True)' or df[col] = df[col].method(value) instead, to perform the operation inplace on the original object.\n",
      "\n",
      "\n",
      "  df['Age'].fillna(value=0, inplace=True)\n"
     ]
    }
   ],
   "source": [
    "print(df['Age'].isna().sum())\n",
    "df['Age'].fillna(value=0, inplace=True)\n",
    "print(df['Age'].isna().sum())"
   ]
  },
  {
   "cell_type": "code",
   "execution_count": 121,
   "id": "c73045f6-a3be-4807-866d-f44f9fc655e5",
   "metadata": {},
   "outputs": [
    {
     "name": "stdout",
     "output_type": "stream",
     "text": [
      "23\n",
      "0\n"
     ]
    },
    {
     "name": "stderr",
     "output_type": "stream",
     "text": [
      "C:\\Users\\LENOVO\\AppData\\Local\\Temp\\ipykernel_18660\\1520889792.py:2: FutureWarning: A value is trying to be set on a copy of a DataFrame or Series through chained assignment using an inplace method.\n",
      "The behavior will change in pandas 3.0. This inplace method will never work because the intermediate object on which we are setting values always behaves as a copy.\n",
      "\n",
      "For example, when doing 'df[col].method(value, inplace=True)', try using 'df.method({col: value}, inplace=True)' or df[col] = df[col].method(value) instead, to perform the operation inplace on the original object.\n",
      "\n",
      "\n",
      "  df['Salary'].fillna(value=df['Salary'].mean(), inplace=True)\n"
     ]
    }
   ],
   "source": [
    "print(df['Salary'].isna().sum())\n",
    "df['Salary'].fillna(value=df['Salary'].mean(), inplace=True)\n",
    "print(df['Salary'].isna().sum())"
   ]
  },
  {
   "cell_type": "markdown",
   "id": "307e5478-1db5-4276-996a-14f905129bef",
   "metadata": {},
   "source": [
    "#### Data Analysis:\n",
    "##### Filter the data with age >40 and salary<5000\n",
    "##### Plot the chart with age and salary\n",
    "##### Count the number of people from each place and represent it visually"
   ]
  },
  {
   "cell_type": "code",
   "execution_count": 123,
   "id": "725116fb-6efc-412f-9a36-b239bf1af5ba",
   "metadata": {},
   "outputs": [
    {
     "name": "stdout",
     "output_type": "stream",
     "text": [
      "    Company   Age       Salary       Place Country  Gender\n",
      "9       CTS  45.0  9000.000000       Delhi   India       0\n",
      "12      CTS  45.0  5283.471074     Chennai   India       0\n",
      "27      CTS  45.0  9284.000000       Delhi   India       1\n",
      "30      CTS  46.0  7654.000000     Chennai   India       0\n",
      "45      CTS  46.0  9000.000000   Hyderabad   India       1\n",
      "48      CTS  43.0  5283.471074      Mumbai   India       0\n",
      "63      CTS  41.0  9284.000000   Bengaluru   India       1\n",
      "66      CTS  41.0  5283.471074    Calcutta   India       0\n",
      "81      CTS  43.0  9000.000000        Pune   India       1\n",
      "99      CTS  44.0  9284.000000  Podicherry   India       1\n",
      "102     CTS  44.0  5283.471074      Mumbai   India       0\n",
      "117     CTS  44.0  9876.000000   Bengaluru   India       1\n",
      "120     CTS  44.0  5283.471074   Hyderabad   India       0\n"
     ]
    }
   ],
   "source": [
    "filtered_data = df[(df['Age'] > 40) & (df['Salary'] > 5000)]\n",
    "print(filtered_data)"
   ]
  },
  {
   "cell_type": "code",
   "execution_count": 125,
   "id": "20ae19a9-dea8-488b-bfe7-07fc6734d136",
   "metadata": {},
   "outputs": [
    {
     "data": {
      "image/png": "[encoded data removed]",
      "text/plain": [
       "<Figure size 800x600 with 1 Axes>"
      ]
     },
     "metadata": {},
     "output_type": "display_data"
    }
   ],
   "source": [
    "# Scatter plot for Age vs Salary\n",
    "plt.figure(figsize=(8, 6))\n",
    "plt.scatter(filtered_data['Age'], filtered_data['Salary'], color='blue', alpha=0.7)\n",
    "plt.title('Age vs Salary')\n",
    "plt.xlabel('Age')\n",
    "plt.ylabel('Salary')\n",
    "plt.grid(True)\n",
    "plt.show()"
   ]
  },
  {
   "cell_type": "code",
   "execution_count": 127,
   "id": "9a18eefa-0625-4975-abcb-ab883d56efa4",
   "metadata": {},
   "outputs": [
    {
     "data": {
      "image/png": "[encoded data removed]",
      "text/plain": [
       "<Figure size 1000x600 with 1 Axes>"
      ]
     },
     "metadata": {},
     "output_type": "display_data"
    }
   ],
   "source": [
    "# Counting people from each place\n",
    "place_counts = df['Place'].value_counts()\n",
    "\n",
    "# Bar plot for people count from each place\n",
    "plt.figure(figsize=(10, 6))\n",
    "place_counts.plot(kind='bar', color='green', alpha=0.8)\n",
    "plt.title('Number of People by Place')\n",
    "plt.xlabel('Place')\n",
    "plt.ylabel('Count')\n",
    "plt.xticks(rotation=45)\n",
    "plt.grid(axis='y', linestyle='--', alpha=0.7)\n",
    "plt.show()"
   ]
  },
  {
   "cell_type": "markdown",
   "id": "a46bcb2a-f57d-4962-921d-770fd596f262",
   "metadata": {},
   "source": [
    "#### Data Encoding\n",
    "##### Convert categorical variables into numerical representations using techniques such as one-hot encoding, label encoding, \n",
    "##### making them suitable for analysis by machine learning algorithms."
   ]
  },
  {
   "cell_type": "code",
   "execution_count": 129,
   "id": "e69fddbd-f2d7-4f23-8f0b-6065155571d2",
   "metadata": {},
   "outputs": [
    {
     "name": "stdout",
     "output_type": "stream",
     "text": [
      "{'CTS': 0, 'Congnizant': 1, 'Infosys': 2, 'TCS': 3, 'Wipro': 4}\n"
     ]
    }
   ],
   "source": [
    "from sklearn.preprocessing import LabelEncoder\n",
    "\n",
    "# Example: Label encode the 'Gender' column\n",
    "label_encoder = LabelEncoder()\n",
    "df['company_encoded'] = label_encoder.fit_transform(df['Company'])\n",
    "\n",
    "# Check the unique encoding\n",
    "print(dict(zip(label_encoder.classes_, label_encoder.transform(label_encoder.classes_))))"
   ]
  },
  {
   "cell_type": "code",
   "execution_count": 131,
   "id": "b3fec1d9-be5a-4ffb-9199-38b178403519",
   "metadata": {},
   "outputs": [
    {
     "data": {
      "text/plain": [
       "0      3\n",
       "1      2\n",
       "2      3\n",
       "3      2\n",
       "4      3\n",
       "      ..\n",
       "142    2\n",
       "143    3\n",
       "145    2\n",
       "146    3\n",
       "147    2\n",
       "Name: company_encoded, Length: 144, dtype: int32"
      ]
     },
     "execution_count": 131,
     "metadata": {},
     "output_type": "execute_result"
    }
   ],
   "source": [
    "df['company_encoded']"
   ]
  },
  {
   "cell_type": "code",
   "execution_count": 133,
   "id": "4377b764-cad8-44f5-b852-bc2697c33455",
   "metadata": {},
   "outputs": [
    {
     "name": "stdout",
     "output_type": "stream",
     "text": [
      "   Company   Age       Salary     Place Country  Gender  company_encoded  \\\n",
      "0      TCS  20.0  5283.471074   Chennai   India       0                3   \n",
      "1  Infosys  30.0  5283.471074    Mumbai   India       0                2   \n",
      "2      TCS  35.0  2300.000000  Calcutta   India       0                3   \n",
      "3  Infosys  40.0  3000.000000     Delhi   India       0                2   \n",
      "4      TCS  23.0  4000.000000    Mumbai   India       0                3   \n",
      "\n",
      "   Place_Bengaluru  Place_Bhopal  Place_Calcutta  Place_Chennai  Place_Cochin  \\\n",
      "0            False         False           False           True         False   \n",
      "1            False         False           False          False         False   \n",
      "2            False         False            True          False         False   \n",
      "3            False         False           False          False         False   \n",
      "4            False         False           False          False         False   \n",
      "\n",
      "   Place_Delhi  Place_Hyderabad  Place_Mumbai  Place_Nagpur  Place_Noida  \\\n",
      "0        False            False         False         False        False   \n",
      "1        False            False          True         False        False   \n",
      "2        False            False         False         False        False   \n",
      "3         True            False         False         False        False   \n",
      "4        False            False          True         False        False   \n",
      "\n",
      "   Place_Podicherry  Place_Pune  \n",
      "0             False       False  \n",
      "1             False       False  \n",
      "2             False       False  \n",
      "3             False       False  \n",
      "4             False       False  \n"
     ]
    }
   ],
   "source": [
    "# Example: One-hot encode the 'Place' column\n",
    "one_hot_encoded = pd.get_dummies(df['Place'], prefix='Place')\n",
    "\n",
    "# Merge the encoded columns back into the DataFrame\n",
    "df = pd.concat([df, one_hot_encoded], axis=1)\n",
    "\n",
    "# Drop the original 'Place' column if needed\n",
    "#df.drop('place', axis=1, inplace=True)\n",
    "\n",
    "print(df.head())"
   ]
  },
  {
   "cell_type": "code",
   "execution_count": 135,
   "id": "b417b19e-ab79-4fb2-a463-666eaa182ed5",
   "metadata": {},
   "outputs": [
    {
     "data": {
      "text/html": [
       "<div>\n",
       "<style scoped>\n",
       "    .dataframe tbody tr th:only-of-type {\n",
       "        vertical-align: middle;\n",
       "    }\n",
       "\n",
       "    .dataframe tbody tr th {\n",
       "        vertical-align: top;\n",
       "    }\n",
       "\n",
       "    .dataframe thead th {\n",
       "        text-align: right;\n",
       "    }\n",
       "</style>\n",
       "<table border=\"1\" class=\"dataframe\">\n",
       "  <thead>\n",
       "    <tr style=\"text-align: right;\">\n",
       "      <th></th>\n",
       "      <th>Company</th>\n",
       "      <th>Age</th>\n",
       "      <th>Salary</th>\n",
       "      <th>Place</th>\n",
       "      <th>Country</th>\n",
       "      <th>Gender</th>\n",
       "      <th>company_encoded</th>\n",
       "      <th>Place_Bengaluru</th>\n",
       "      <th>Place_Bhopal</th>\n",
       "      <th>Place_Calcutta</th>\n",
       "      <th>Place_Chennai</th>\n",
       "      <th>Place_Cochin</th>\n",
       "      <th>Place_Delhi</th>\n",
       "      <th>Place_Hyderabad</th>\n",
       "      <th>Place_Mumbai</th>\n",
       "      <th>Place_Nagpur</th>\n",
       "      <th>Place_Noida</th>\n",
       "      <th>Place_Podicherry</th>\n",
       "      <th>Place_Pune</th>\n",
       "    </tr>\n",
       "  </thead>\n",
       "  <tbody>\n",
       "    <tr>\n",
       "      <th>0</th>\n",
       "      <td>TCS</td>\n",
       "      <td>20.0</td>\n",
       "      <td>5283.471074</td>\n",
       "      <td>Chennai</td>\n",
       "      <td>India</td>\n",
       "      <td>0</td>\n",
       "      <td>3</td>\n",
       "      <td>False</td>\n",
       "      <td>False</td>\n",
       "      <td>False</td>\n",
       "      <td>True</td>\n",
       "      <td>False</td>\n",
       "      <td>False</td>\n",
       "      <td>False</td>\n",
       "      <td>False</td>\n",
       "      <td>False</td>\n",
       "      <td>False</td>\n",
       "      <td>False</td>\n",
       "      <td>False</td>\n",
       "    </tr>\n",
       "    <tr>\n",
       "      <th>1</th>\n",
       "      <td>Infosys</td>\n",
       "      <td>30.0</td>\n",
       "      <td>5283.471074</td>\n",
       "      <td>Mumbai</td>\n",
       "      <td>India</td>\n",
       "      <td>0</td>\n",
       "      <td>2</td>\n",
       "      <td>False</td>\n",
       "      <td>False</td>\n",
       "      <td>False</td>\n",
       "      <td>False</td>\n",
       "      <td>False</td>\n",
       "      <td>False</td>\n",
       "      <td>False</td>\n",
       "      <td>True</td>\n",
       "      <td>False</td>\n",
       "      <td>False</td>\n",
       "      <td>False</td>\n",
       "      <td>False</td>\n",
       "    </tr>\n",
       "    <tr>\n",
       "      <th>2</th>\n",
       "      <td>TCS</td>\n",
       "      <td>35.0</td>\n",
       "      <td>2300.000000</td>\n",
       "      <td>Calcutta</td>\n",
       "      <td>India</td>\n",
       "      <td>0</td>\n",
       "      <td>3</td>\n",
       "      <td>False</td>\n",
       "      <td>False</td>\n",
       "      <td>True</td>\n",
       "      <td>False</td>\n",
       "      <td>False</td>\n",
       "      <td>False</td>\n",
       "      <td>False</td>\n",
       "      <td>False</td>\n",
       "      <td>False</td>\n",
       "      <td>False</td>\n",
       "      <td>False</td>\n",
       "      <td>False</td>\n",
       "    </tr>\n",
       "    <tr>\n",
       "      <th>3</th>\n",
       "      <td>Infosys</td>\n",
       "      <td>40.0</td>\n",
       "      <td>3000.000000</td>\n",
       "      <td>Delhi</td>\n",
       "      <td>India</td>\n",
       "      <td>0</td>\n",
       "      <td>2</td>\n",
       "      <td>False</td>\n",
       "      <td>False</td>\n",
       "      <td>False</td>\n",
       "      <td>False</td>\n",
       "      <td>False</td>\n",
       "      <td>True</td>\n",
       "      <td>False</td>\n",
       "      <td>False</td>\n",
       "      <td>False</td>\n",
       "      <td>False</td>\n",
       "      <td>False</td>\n",
       "      <td>False</td>\n",
       "    </tr>\n",
       "    <tr>\n",
       "      <th>4</th>\n",
       "      <td>TCS</td>\n",
       "      <td>23.0</td>\n",
       "      <td>4000.000000</td>\n",
       "      <td>Mumbai</td>\n",
       "      <td>India</td>\n",
       "      <td>0</td>\n",
       "      <td>3</td>\n",
       "      <td>False</td>\n",
       "      <td>False</td>\n",
       "      <td>False</td>\n",
       "      <td>False</td>\n",
       "      <td>False</td>\n",
       "      <td>False</td>\n",
       "      <td>False</td>\n",
       "      <td>True</td>\n",
       "      <td>False</td>\n",
       "      <td>False</td>\n",
       "      <td>False</td>\n",
       "      <td>False</td>\n",
       "    </tr>\n",
       "    <tr>\n",
       "      <th>...</th>\n",
       "      <td>...</td>\n",
       "      <td>...</td>\n",
       "      <td>...</td>\n",
       "      <td>...</td>\n",
       "      <td>...</td>\n",
       "      <td>...</td>\n",
       "      <td>...</td>\n",
       "      <td>...</td>\n",
       "      <td>...</td>\n",
       "      <td>...</td>\n",
       "      <td>...</td>\n",
       "      <td>...</td>\n",
       "      <td>...</td>\n",
       "      <td>...</td>\n",
       "      <td>...</td>\n",
       "      <td>...</td>\n",
       "      <td>...</td>\n",
       "      <td>...</td>\n",
       "      <td>...</td>\n",
       "    </tr>\n",
       "    <tr>\n",
       "      <th>142</th>\n",
       "      <td>Infosys</td>\n",
       "      <td>22.0</td>\n",
       "      <td>8202.000000</td>\n",
       "      <td>Mumbai</td>\n",
       "      <td>India</td>\n",
       "      <td>0</td>\n",
       "      <td>2</td>\n",
       "      <td>False</td>\n",
       "      <td>False</td>\n",
       "      <td>False</td>\n",
       "      <td>False</td>\n",
       "      <td>False</td>\n",
       "      <td>False</td>\n",
       "      <td>False</td>\n",
       "      <td>True</td>\n",
       "      <td>False</td>\n",
       "      <td>False</td>\n",
       "      <td>False</td>\n",
       "      <td>False</td>\n",
       "    </tr>\n",
       "    <tr>\n",
       "      <th>143</th>\n",
       "      <td>TCS</td>\n",
       "      <td>33.0</td>\n",
       "      <td>9024.000000</td>\n",
       "      <td>Calcutta</td>\n",
       "      <td>India</td>\n",
       "      <td>1</td>\n",
       "      <td>3</td>\n",
       "      <td>False</td>\n",
       "      <td>False</td>\n",
       "      <td>True</td>\n",
       "      <td>False</td>\n",
       "      <td>False</td>\n",
       "      <td>False</td>\n",
       "      <td>False</td>\n",
       "      <td>False</td>\n",
       "      <td>False</td>\n",
       "      <td>False</td>\n",
       "      <td>False</td>\n",
       "      <td>False</td>\n",
       "    </tr>\n",
       "    <tr>\n",
       "      <th>145</th>\n",
       "      <td>Infosys</td>\n",
       "      <td>44.0</td>\n",
       "      <td>4034.000000</td>\n",
       "      <td>Delhi</td>\n",
       "      <td>India</td>\n",
       "      <td>1</td>\n",
       "      <td>2</td>\n",
       "      <td>False</td>\n",
       "      <td>False</td>\n",
       "      <td>False</td>\n",
       "      <td>False</td>\n",
       "      <td>False</td>\n",
       "      <td>True</td>\n",
       "      <td>False</td>\n",
       "      <td>False</td>\n",
       "      <td>False</td>\n",
       "      <td>False</td>\n",
       "      <td>False</td>\n",
       "      <td>False</td>\n",
       "    </tr>\n",
       "    <tr>\n",
       "      <th>146</th>\n",
       "      <td>TCS</td>\n",
       "      <td>33.0</td>\n",
       "      <td>5034.000000</td>\n",
       "      <td>Mumbai</td>\n",
       "      <td>India</td>\n",
       "      <td>1</td>\n",
       "      <td>3</td>\n",
       "      <td>False</td>\n",
       "      <td>False</td>\n",
       "      <td>False</td>\n",
       "      <td>False</td>\n",
       "      <td>False</td>\n",
       "      <td>False</td>\n",
       "      <td>False</td>\n",
       "      <td>True</td>\n",
       "      <td>False</td>\n",
       "      <td>False</td>\n",
       "      <td>False</td>\n",
       "      <td>False</td>\n",
       "    </tr>\n",
       "    <tr>\n",
       "      <th>147</th>\n",
       "      <td>Infosys</td>\n",
       "      <td>22.0</td>\n",
       "      <td>8202.000000</td>\n",
       "      <td>Cochin</td>\n",
       "      <td>India</td>\n",
       "      <td>0</td>\n",
       "      <td>2</td>\n",
       "      <td>False</td>\n",
       "      <td>False</td>\n",
       "      <td>False</td>\n",
       "      <td>False</td>\n",
       "      <td>True</td>\n",
       "      <td>False</td>\n",
       "      <td>False</td>\n",
       "      <td>False</td>\n",
       "      <td>False</td>\n",
       "      <td>False</td>\n",
       "      <td>False</td>\n",
       "      <td>False</td>\n",
       "    </tr>\n",
       "  </tbody>\n",
       "</table>\n",
       "<p>144 rows × 19 columns</p>\n",
       "</div>"
      ],
      "text/plain": [
       "     Company   Age       Salary     Place Country  Gender  company_encoded  \\\n",
       "0        TCS  20.0  5283.471074   Chennai   India       0                3   \n",
       "1    Infosys  30.0  5283.471074    Mumbai   India       0                2   \n",
       "2        TCS  35.0  2300.000000  Calcutta   India       0                3   \n",
       "3    Infosys  40.0  3000.000000     Delhi   India       0                2   \n",
       "4        TCS  23.0  4000.000000    Mumbai   India       0                3   \n",
       "..       ...   ...          ...       ...     ...     ...              ...   \n",
       "142  Infosys  22.0  8202.000000    Mumbai   India       0                2   \n",
       "143      TCS  33.0  9024.000000  Calcutta   India       1                3   \n",
       "145  Infosys  44.0  4034.000000     Delhi   India       1                2   \n",
       "146      TCS  33.0  5034.000000    Mumbai   India       1                3   \n",
       "147  Infosys  22.0  8202.000000    Cochin   India       0                2   \n",
       "\n",
       "     Place_Bengaluru  Place_Bhopal  Place_Calcutta  Place_Chennai  \\\n",
       "0              False         False           False           True   \n",
       "1              False         False           False          False   \n",
       "2              False         False            True          False   \n",
       "3              False         False           False          False   \n",
       "4              False         False           False          False   \n",
       "..               ...           ...             ...            ...   \n",
       "142            False         False           False          False   \n",
       "143            False         False            True          False   \n",
       "145            False         False           False          False   \n",
       "146            False         False           False          False   \n",
       "147            False         False           False          False   \n",
       "\n",
       "     Place_Cochin  Place_Delhi  Place_Hyderabad  Place_Mumbai  Place_Nagpur  \\\n",
       "0           False        False            False         False         False   \n",
       "1           False        False            False          True         False   \n",
       "2           False        False            False         False         False   \n",
       "3           False         True            False         False         False   \n",
       "4           False        False            False          True         False   \n",
       "..            ...          ...              ...           ...           ...   \n",
       "142         False        False            False          True         False   \n",
       "143         False        False            False         False         False   \n",
       "145         False         True            False         False         False   \n",
       "146         False        False            False          True         False   \n",
       "147          True        False            False         False         False   \n",
       "\n",
       "     Place_Noida  Place_Podicherry  Place_Pune  \n",
       "0          False             False       False  \n",
       "1          False             False       False  \n",
       "2          False             False       False  \n",
       "3          False             False       False  \n",
       "4          False             False       False  \n",
       "..           ...               ...         ...  \n",
       "142        False             False       False  \n",
       "143        False             False       False  \n",
       "145        False             False       False  \n",
       "146        False             False       False  \n",
       "147        False             False       False  \n",
       "\n",
       "[144 rows x 19 columns]"
      ]
     },
     "execution_count": 135,
     "metadata": {},
     "output_type": "execute_result"
    }
   ],
   "source": [
    "df"
   ]
  },
  {
   "cell_type": "markdown",
   "id": "aad2342b-7e1c-4223-b27a-1a78d742f18b",
   "metadata": {},
   "source": [
    "#### Feature Scaling\n",
    "##### After the process of encoding, perform the scaling of the features using standardscaler and minmaxscaler."
   ]
  },
  {
   "cell_type": "code",
   "execution_count": 141,
   "id": "1de29224-21ec-4a2b-8955-e282deb93f68",
   "metadata": {},
   "outputs": [
    {
     "name": "stdout",
     "output_type": "stream",
     "text": [
      "Standard Scaled Data:\n",
      "    Company       Age    Salary     Place Country  Gender  company_encoded  \\\n",
      "0      TCS -0.483417  0.000000   Chennai   India       0         0.805806   \n",
      "1  Infosys  0.214798  0.000000    Mumbai   India       0         0.011038   \n",
      "2      TCS  0.563906 -1.264122  Calcutta   India       0         0.805806   \n",
      "3  Infosys  0.913014 -0.967526     Delhi   India       0         0.011038   \n",
      "4      TCS -0.273953 -0.543818    Mumbai   India       0         0.805806   \n",
      "\n",
      "   Place_Bengaluru  Place_Bhopal  Place_Calcutta  Place_Chennai  Place_Cochin  \\\n",
      "0        -0.328165         False           False       3.047247         False   \n",
      "1        -0.328165         False           False      -0.328165         False   \n",
      "2        -0.328165         False            True      -0.328165         False   \n",
      "3        -0.328165         False           False      -0.328165         False   \n",
      "4        -0.328165         False           False      -0.328165         False   \n",
      "\n",
      "   Place_Delhi  Place_Hyderabad  Place_Mumbai  Place_Nagpur  Place_Noida  \\\n",
      "0        False            False         False         False        False   \n",
      "1        False            False          True         False        False   \n",
      "2        False            False         False         False        False   \n",
      "3         True            False         False         False        False   \n",
      "4        False            False          True         False        False   \n",
      "\n",
      "   Place_Podicherry  Place_Pune  \n",
      "0             False       False  \n",
      "1             False       False  \n",
      "2             False       False  \n",
      "3             False       False  \n",
      "4             False       False  \n",
      "\n",
      "MinMax Scaled Data:\n",
      "    Company       Age    Salary     Place Country  Gender  company_encoded  \\\n",
      "0      TCS  0.370370  0.477350   Chennai   India       0             0.75   \n",
      "1  Infosys  0.555556  0.477350    Mumbai   India       0             0.50   \n",
      "2      TCS  0.648148  0.137817  Calcutta   India       0             0.75   \n",
      "3  Infosys  0.740741  0.217480     Delhi   India       0             0.50   \n",
      "4      TCS  0.425926  0.331285    Mumbai   India       0             0.75   \n",
      "\n",
      "   Place_Bengaluru  Place_Bhopal  Place_Calcutta  Place_Chennai  Place_Cochin  \\\n",
      "0              0.0         False           False            1.0         False   \n",
      "1              0.0         False           False            0.0         False   \n",
      "2              0.0         False            True            0.0         False   \n",
      "3              0.0         False           False            0.0         False   \n",
      "4              0.0         False           False            0.0         False   \n",
      "\n",
      "   Place_Delhi  Place_Hyderabad  Place_Mumbai  Place_Nagpur  Place_Noida  \\\n",
      "0        False            False         False         False        False   \n",
      "1        False            False          True         False        False   \n",
      "2        False            False         False         False        False   \n",
      "3         True            False         False         False        False   \n",
      "4        False            False          True         False        False   \n",
      "\n",
      "   Place_Podicherry  Place_Pune  \n",
      "0             False       False  \n",
      "1             False       False  \n",
      "2             False       False  \n",
      "3             False       False  \n",
      "4             False       False  \n"
     ]
    }
   ],
   "source": [
    "from sklearn.preprocessing import StandardScaler, MinMaxScaler\n",
    "\n",
    "# Selecting features for scaling\n",
    "features_to_scale = ['Age', 'Salary', 'company_encoded', 'Place_Chennai', 'Place_Bengaluru']\n",
    "\n",
    "# StandardScaler:\n",
    "standard_scaler = StandardScaler()\n",
    "df_standard_scaled = df.copy()\n",
    "df_standard_scaled[features_to_scale] = standard_scaler.fit_transform(df[features_to_scale])\n",
    "\n",
    "# MinMaxScaler:\n",
    "minmax_scaler = MinMaxScaler()\n",
    "df_minmax_scaled = df.copy()\n",
    "df_minmax_scaled[features_to_scale] = minmax_scaler.fit_transform(df[features_to_scale])\n",
    "\n",
    "# Displaying the scaled datasets\n",
    "print(\"Standard Scaled Data:\\n\", df_standard_scaled.head())\n",
    "print(\"\\nMinMax Scaled Data:\\n\", df_minmax_scaled.head())"
   ]
  },
  {
   "cell_type": "code",
   "execution_count": null,
   "id": "1ab9d796-f98c-4352-8556-9122643205d8",
   "metadata": {},
   "outputs": [],
   "source": []
  }
 ],
 "metadata": {
  "kernelspec": {
   "display_name": "Python [conda env:base] *",
   "language": "python",
   "name": "conda-base-py"
  },
  "language_info": {
   "codemirror_mode": {
    "name": "ipython",
    "version": 3
   },
   "file_extension": ".py",
   "mimetype": "text/x-python",
   "name": "python",
   "nbconvert_exporter": "python",
   "pygments_lexer": "ipython3",
   "version": "3.12.7"
  }
 },
 "nbformat": 4,
 "nbformat_minor": 5
}
